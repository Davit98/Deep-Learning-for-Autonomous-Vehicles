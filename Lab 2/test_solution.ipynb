{
 "cells": [
  {
   "cell_type": "code",
   "execution_count": 1,
   "metadata": {},
   "outputs": [],
   "source": [
    "from run import main"
   ]
  },
  {
   "cell_type": "code",
   "execution_count": 2,
   "metadata": {},
   "outputs": [
    {
     "name": "stdout",
     "output_type": "stream",
     "text": [
      "Batch 1\n",
      "<All keys matched successfully>\n",
      "Group 1 ... Softmax= 0.370600 ... Pytorch= 0.098200\n",
      "Batch 2\n",
      "<All keys matched successfully>\n",
      "Group 1 ... Softmax= 0.352600 ... Pytorch= 0.093600\n",
      "Batch 3\n",
      "<All keys matched successfully>\n",
      "Group 1 ... Softmax= 0.373600 ... Pytorch= 0.098100\n",
      "Batch 4\n",
      "<All keys matched successfully>\n",
      "Group 1 ... Softmax= 0.366400 ... Pytorch= 0.097000\n",
      "Batch 5\n",
      "<All keys matched successfully>\n",
      "Group 1 ... Softmax= 0.358900 ... Pytorch= 0.103600\n"
     ]
    }
   ],
   "source": [
    "for i in [1, 2, 3, 4, 5]:\n",
    "    print(f\"Batch {i}\")\n",
    "    filename = f\"data/cifar-10-batches-py/data_batch_{i}\"\n",
    "    main(filename, 1)"
   ]
  }
 ],
 "metadata": {
  "kernelspec": {
   "display_name": "Python 3",
   "language": "python",
   "name": "python3"
  },
  "language_info": {
   "codemirror_mode": {
    "name": "ipython",
    "version": 3
   },
   "file_extension": ".py",
   "mimetype": "text/x-python",
   "name": "python",
   "nbconvert_exporter": "python",
   "pygments_lexer": "ipython3",
   "version": "3.7.1"
  }
 },
 "nbformat": 4,
 "nbformat_minor": 2
}
