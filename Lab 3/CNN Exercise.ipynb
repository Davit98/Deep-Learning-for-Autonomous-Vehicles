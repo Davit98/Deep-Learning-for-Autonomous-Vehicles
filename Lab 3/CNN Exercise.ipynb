{
 "cells": [
  {
   "cell_type": "markdown",
   "metadata": {},
   "source": [
    "## Convolutional Networks\n",
    "\n",
    "We'll check out how to build a **convolutional network** to classify CIFAR10 images. By using weight sharing - multiple units with the same weights - convolutional layers are able to learn repeated patterns in your data. For example, a unit could learn the pattern for an eye, or a face, or lower level features like edges.\n"
   ]
  },
  {
   "cell_type": "code",
   "execution_count": 1,
   "metadata": {},
   "outputs": [],
   "source": [
    "import numpy as np\n",
    "import matplotlib.pyplot as plt\n",
    "import time\n",
    "\n",
    "import torch\n",
    "from torch import nn\n",
    "from torch import optim\n",
    "import torch.nn.functional as F\n",
    "import torch.utils.data as utils\n",
    "from torchvision import datasets, transforms\n",
    "from torch.utils.data.sampler import SubsetRandomSampler\n",
    "import copy\n",
    "\n",
    "from network import ConvNetBig, ConvNetSmall"
   ]
  },
  {
   "cell_type": "code",
   "execution_count": 2,
   "metadata": {},
   "outputs": [
    {
     "name": "stdout",
     "output_type": "stream",
     "text": [
      "Files already downloaded and verified\n",
      "Files already downloaded and verified\n"
     ]
    }
   ],
   "source": [
    "def get_train_valid_loader(data_dir='data',\n",
    "                           batch_size=64,\n",
    "                           augment=False,\n",
    "                           random_seed = 1,\n",
    "                           valid_size=0.02,\n",
    "                           shuffle=True,\n",
    "                           show_sample=False,\n",
    "                           num_workers=4,\n",
    "                           pin_memory=False):\n",
    "    \"\"\"\n",
    "    Utility function for loading and returning train and valid\n",
    "    multi-process iterators over the CIFAR-10 dataset. A sample\n",
    "    9x9 grid of the images can be optionally displayed.\n",
    "    If using CUDA, num_workers should be set to 1 and pin_memory to True.\n",
    "    Params\n",
    "    ------\n",
    "    - data_dir: path directory to the dataset.\n",
    "    - batch_size: how many samples per batch to load.\n",
    "    - augment: whether to apply the data augmentation scheme\n",
    "      mentioned in the paper. Only applied on the train split.\n",
    "    - random_seed: fix seed for reproducibility.\n",
    "    - valid_size: percentage split of the training set used for\n",
    "      the validation set. Should be a float in the range [0, 1].\n",
    "    - shuffle: whether to shuffle the train/validation indices.\n",
    "    - show_sample: plot 9x9 sample grid of the dataset.\n",
    "    - num_workers: number of subprocesses to use when loading the dataset.\n",
    "    - pin_memory: whether to copy tensors into CUDA pinned memory. Set it to\n",
    "      True if using GPU.\n",
    "    Returns\n",
    "    -------\n",
    "    - train_loader: training set iterator.\n",
    "    - valid_loader: validation set iterator.\n",
    "    \"\"\"\n",
    "    error_msg = \"[!] valid_size should be in the range [0, 1].\"\n",
    "    assert ((valid_size >= 0) and (valid_size <= 1)), error_msg\n",
    "\n",
    "    normalize = transforms.Normalize(\n",
    "        mean=[0.4914, 0.4822, 0.4465],\n",
    "        std=[0.2023, 0.1994, 0.2010],\n",
    "    )\n",
    "\n",
    "    # define transforms\n",
    "    valid_transform = transforms.Compose([\n",
    "            transforms.ToTensor(),\n",
    "            normalize,\n",
    "    ])\n",
    "    if augment:\n",
    "        train_transform = transforms.Compose([\n",
    "            transforms.RandomCrop(32, padding=4),\n",
    "            transforms.RandomHorizontalFlip(),\n",
    "            transforms.ToTensor(),\n",
    "            normalize,\n",
    "        ])\n",
    "    else:\n",
    "        train_transform = transforms.Compose([\n",
    "            transforms.ToTensor(),\n",
    "            normalize,\n",
    "        ])\n",
    "\n",
    "    # load the dataset\n",
    "    train_dataset = datasets.CIFAR10(\n",
    "        root=data_dir, train=True,\n",
    "        download=True, transform=train_transform,\n",
    "    )\n",
    "\n",
    "    valid_dataset = datasets.CIFAR10(\n",
    "        root=data_dir, train=True,\n",
    "        download=True, transform=valid_transform,\n",
    "    )\n",
    "\n",
    "    num_train = len(train_dataset)\n",
    "    indices = list(range(num_train))\n",
    "    split = int(np.floor(valid_size * num_train))\n",
    "\n",
    "    if shuffle:\n",
    "        np.random.seed(random_seed)\n",
    "        np.random.shuffle(indices)\n",
    "\n",
    "    train_idx, valid_idx = indices[split:], indices[:split]\n",
    "    train_sampler = SubsetRandomSampler(train_idx)\n",
    "    valid_sampler = SubsetRandomSampler(valid_idx)\n",
    "\n",
    "    train_loader = torch.utils.data.DataLoader(\n",
    "        train_dataset, batch_size=batch_size, sampler=train_sampler,\n",
    "        num_workers=num_workers, pin_memory=pin_memory,\n",
    "    )\n",
    "    valid_loader = torch.utils.data.DataLoader(\n",
    "        valid_dataset, batch_size=batch_size, sampler=valid_sampler,\n",
    "        num_workers=num_workers, pin_memory=pin_memory,\n",
    "    )\n",
    "\n",
    "    # visualize some images\n",
    "    if show_sample:\n",
    "        sample_loader = torch.utils.data.DataLoader(\n",
    "            train_dataset, batch_size=9, shuffle=shuffle,\n",
    "            num_workers=num_workers, pin_memory=pin_memory,\n",
    "        )\n",
    "        data_iter = iter(sample_loader)\n",
    "        images, labels = data_iter.next()\n",
    "        X = images.numpy().transpose([0, 2, 3, 1])\n",
    "        plot_images(X, labels)\n",
    "\n",
    "    return (train_loader, valid_loader)\n",
    "\n",
    "trainloader, valloader = get_train_valid_loader()"
   ]
  },
  {
   "cell_type": "code",
   "execution_count": 3,
   "metadata": {},
   "outputs": [],
   "source": [
    "net = ConvNetBig()\n",
    "# net = ConvNetSmall()\n",
    "\n",
    "criterion = nn.CrossEntropyLoss()\n",
    "optimizer = optim.Adam(net.parameters(), lr=0.001, weight_decay=0.005)"
   ]
  },
  {
   "cell_type": "code",
   "execution_count": 5,
   "metadata": {},
   "outputs": [
    {
     "name": "stdout",
     "output_type": "stream",
     "text": [
      "cuda:0\n"
     ]
    }
   ],
   "source": [
    "device = torch.device(\"cuda:0\" if torch.cuda.is_available() else \"cpu\")\n",
    "print(device)"
   ]
  },
  {
   "cell_type": "code",
   "execution_count": 6,
   "metadata": {},
   "outputs": [
    {
     "data": {
      "text/plain": [
       "ConvNetBig(\n",
       "  (conv1): Conv2d(3, 16, kernel_size=(3, 3), stride=(1, 1), padding=(1, 1))\n",
       "  (conv2): Conv2d(16, 32, kernel_size=(3, 3), stride=(1, 1), padding=(1, 1))\n",
       "  (conv3): Conv2d(32, 32, kernel_size=(3, 3), stride=(1, 1), padding=(1, 1))\n",
       "  (conv4): Conv2d(32, 64, kernel_size=(3, 3), stride=(1, 1), padding=(1, 1))\n",
       "  (dropout1): Dropout2d(p=0.25, inplace=False)\n",
       "  (dropout2): Dropout2d(p=0.5, inplace=False)\n",
       "  (fc1): Linear(in_features=4096, out_features=256, bias=True)\n",
       "  (fc2): Linear(in_features=256, out_features=10, bias=True)\n",
       ")"
      ]
     },
     "execution_count": 6,
     "metadata": {},
     "output_type": "execute_result"
    }
   ],
   "source": [
    "net.to(device)"
   ]
  },
  {
   "cell_type": "code",
   "execution_count": 7,
   "metadata": {},
   "outputs": [],
   "source": [
    "# from torchsummary import summary\n",
    "# summary(net, input_size=(3, 32, 32))"
   ]
  },
  {
   "cell_type": "code",
   "execution_count": 8,
   "metadata": {},
   "outputs": [],
   "source": [
    "def get_accuracy(model, dataloader):\n",
    "    total = 0\n",
    "    correct = 0\n",
    "    for (images, labels) in iter(dataloader):\n",
    "        images, labels = images.to(device), labels.to(device)\n",
    "        predicted = model.predict(images)\n",
    "        total += labels.size(0)\n",
    "        correct += (predicted == labels).sum().item()\n",
    "    return 100 * correct / total"
   ]
  },
  {
   "cell_type": "code",
   "execution_count": 9,
   "metadata": {},
   "outputs": [
    {
     "name": "stdout",
     "output_type": "stream",
     "text": [
      "Epoch: 1/10 Step: 0/766 Loss: 0.0230.. Train accuracy: 10.302.. Test accuracy: 11.000.. 32.338 s/100 steps\n",
      "Epoch: 1/10 Step: 100/766 Loss: 1.9045.. Train accuracy: 38.500.. Test accuracy: 38.500.. 22.874 s/100 steps\n",
      "Epoch: 1/10 Step: 200/766 Loss: 1.5903.. Train accuracy: 42.773.. Test accuracy: 42.400.. 20.807 s/100 steps\n",
      "Epoch: 1/10 Step: 300/766 Loss: 1.4314.. Train accuracy: 50.071.. Test accuracy: 47.900.. 20.726 s/100 steps\n",
      "Epoch: 1/10 Step: 400/766 Loss: 1.3712.. Train accuracy: 54.043.. Test accuracy: 53.800.. 20.969 s/100 steps\n",
      "Epoch: 1/10 Step: 500/766 Loss: 1.3215.. Train accuracy: 54.733.. Test accuracy: 53.400.. 22.451 s/100 steps\n",
      "Epoch: 1/10 Step: 600/766 Loss: 1.2545.. Train accuracy: 56.551.. Test accuracy: 56.300.. 23.551 s/100 steps\n",
      "Epoch: 1/10 Step: 700/766 Loss: 1.2257.. Train accuracy: 58.288.. Test accuracy: 57.200.. 21.600 s/100 steps\n",
      "Epoch: 2/10 Step: 0/766 Loss: 0.7800.. Train accuracy: 59.184.. Test accuracy: 58.800.. 27.183 s/100 steps\n",
      "Epoch: 2/10 Step: 100/766 Loss: 1.1400.. Train accuracy: 60.733.. Test accuracy: 59.200.. 21.567 s/100 steps\n",
      "Epoch: 2/10 Step: 200/766 Loss: 1.1034.. Train accuracy: 62.557.. Test accuracy: 60.900.. 20.691 s/100 steps\n",
      "Epoch: 2/10 Step: 300/766 Loss: 1.0730.. Train accuracy: 64.504.. Test accuracy: 61.300.. 20.576 s/100 steps\n",
      "Epoch: 2/10 Step: 400/766 Loss: 1.0638.. Train accuracy: 66.004.. Test accuracy: 62.900.. 20.685 s/100 steps\n",
      "Epoch: 2/10 Step: 500/766 Loss: 1.0248.. Train accuracy: 65.006.. Test accuracy: 63.900.. 20.782 s/100 steps\n",
      "Epoch: 2/10 Step: 600/766 Loss: 1.0265.. Train accuracy: 66.229.. Test accuracy: 65.000.. 20.654 s/100 steps\n",
      "Epoch: 2/10 Step: 700/766 Loss: 0.9812.. Train accuracy: 65.343.. Test accuracy: 63.500.. 20.437 s/100 steps\n",
      "Epoch: 3/10 Step: 0/766 Loss: 0.6652.. Train accuracy: 65.386.. Test accuracy: 65.300.. 26.501 s/100 steps\n",
      "Epoch: 3/10 Step: 100/766 Loss: 0.9506.. Train accuracy: 67.533.. Test accuracy: 66.000.. 20.477 s/100 steps\n",
      "Epoch: 3/10 Step: 200/766 Loss: 0.9401.. Train accuracy: 68.841.. Test accuracy: 67.100.. 20.720 s/100 steps\n",
      "Epoch: 3/10 Step: 300/766 Loss: 0.9259.. Train accuracy: 69.541.. Test accuracy: 67.200.. 20.710 s/100 steps\n",
      "Epoch: 3/10 Step: 400/766 Loss: 0.9391.. Train accuracy: 66.253.. Test accuracy: 62.800.. 20.524 s/100 steps\n",
      "Epoch: 3/10 Step: 500/766 Loss: 0.8918.. Train accuracy: 69.894.. Test accuracy: 67.300.. 20.606 s/100 steps\n",
      "Epoch: 3/10 Step: 600/766 Loss: 0.9355.. Train accuracy: 69.012.. Test accuracy: 67.000.. 20.672 s/100 steps\n",
      "Epoch: 3/10 Step: 700/766 Loss: 0.8606.. Train accuracy: 69.876.. Test accuracy: 67.400.. 21.879 s/100 steps\n",
      "Epoch: 4/10 Step: 0/766 Loss: 0.5862.. Train accuracy: 70.149.. Test accuracy: 66.800.. 26.533 s/100 steps\n",
      "Epoch: 4/10 Step: 100/766 Loss: 0.8358.. Train accuracy: 71.310.. Test accuracy: 69.200.. 20.725 s/100 steps\n",
      "Epoch: 4/10 Step: 200/766 Loss: 0.8470.. Train accuracy: 72.792.. Test accuracy: 70.200.. 20.557 s/100 steps\n",
      "Epoch: 4/10 Step: 300/766 Loss: 0.8486.. Train accuracy: 71.682.. Test accuracy: 69.600.. 20.412 s/100 steps\n",
      "Epoch: 4/10 Step: 400/766 Loss: 0.8611.. Train accuracy: 72.080.. Test accuracy: 69.600.. 20.449 s/100 steps\n",
      "Epoch: 4/10 Step: 500/766 Loss: 0.8382.. Train accuracy: 73.547.. Test accuracy: 70.900.. 20.417 s/100 steps\n",
      "Epoch: 4/10 Step: 600/766 Loss: 0.8303.. Train accuracy: 73.237.. Test accuracy: 70.900.. 20.629 s/100 steps\n",
      "Epoch: 4/10 Step: 700/766 Loss: 0.8273.. Train accuracy: 72.788.. Test accuracy: 71.600.. 20.565 s/100 steps\n",
      "Epoch: 5/10 Step: 0/766 Loss: 0.5654.. Train accuracy: 73.065.. Test accuracy: 71.900.. 26.661 s/100 steps\n",
      "Epoch: 5/10 Step: 100/766 Loss: 0.7927.. Train accuracy: 74.208.. Test accuracy: 72.100.. 20.388 s/100 steps\n",
      "Epoch: 5/10 Step: 200/766 Loss: 0.7685.. Train accuracy: 69.782.. Test accuracy: 66.300.. 20.471 s/100 steps\n",
      "Epoch: 5/10 Step: 300/766 Loss: 0.8097.. Train accuracy: 72.355.. Test accuracy: 70.700.. 20.528 s/100 steps\n",
      "Epoch: 5/10 Step: 400/766 Loss: 0.8321.. Train accuracy: 73.753.. Test accuracy: 70.600.. 21.237 s/100 steps\n",
      "Epoch: 5/10 Step: 500/766 Loss: 0.7848.. Train accuracy: 73.833.. Test accuracy: 72.200.. 21.664 s/100 steps\n",
      "Epoch: 5/10 Step: 600/766 Loss: 0.7905.. Train accuracy: 73.592.. Test accuracy: 71.800.. 20.996 s/100 steps\n",
      "Epoch: 5/10 Step: 700/766 Loss: 0.8040.. Train accuracy: 72.186.. Test accuracy: 71.400.. 20.572 s/100 steps\n",
      "Epoch: 6/10 Step: 0/766 Loss: 0.5290.. Train accuracy: 73.427.. Test accuracy: 73.700.. 26.473 s/100 steps\n",
      "Epoch: 6/10 Step: 100/766 Loss: 0.7480.. Train accuracy: 73.790.. Test accuracy: 71.000.. 21.051 s/100 steps\n",
      "Epoch: 6/10 Step: 200/766 Loss: 0.7539.. Train accuracy: 73.859.. Test accuracy: 74.100.. 20.685 s/100 steps\n",
      "Epoch: 6/10 Step: 300/766 Loss: 0.7450.. Train accuracy: 76.420.. Test accuracy: 73.100.. 20.837 s/100 steps\n",
      "Epoch: 6/10 Step: 400/766 Loss: 0.7827.. Train accuracy: 76.029.. Test accuracy: 72.900.. 21.527 s/100 steps\n",
      "Epoch: 6/10 Step: 500/766 Loss: 0.8069.. Train accuracy: 75.206.. Test accuracy: 74.500.. 20.544 s/100 steps\n",
      "Epoch: 6/10 Step: 600/766 Loss: 0.7513.. Train accuracy: 75.567.. Test accuracy: 73.400.. 20.532 s/100 steps\n",
      "Epoch: 6/10 Step: 700/766 Loss: 0.7559.. Train accuracy: 75.218.. Test accuracy: 72.000.. 20.668 s/100 steps\n",
      "Epoch: 7/10 Step: 0/766 Loss: 0.4997.. Train accuracy: 75.224.. Test accuracy: 73.200.. 26.396 s/100 steps\n",
      "Epoch: 7/10 Step: 100/766 Loss: 0.7372.. Train accuracy: 75.565.. Test accuracy: 73.400.. 20.427 s/100 steps\n",
      "Epoch: 7/10 Step: 200/766 Loss: 0.7322.. Train accuracy: 75.351.. Test accuracy: 72.100.. 22.049 s/100 steps\n",
      "Epoch: 7/10 Step: 300/766 Loss: 0.7367.. Train accuracy: 76.531.. Test accuracy: 74.300.. 21.073 s/100 steps\n",
      "Epoch: 7/10 Step: 400/766 Loss: 0.7099.. Train accuracy: 74.980.. Test accuracy: 72.100.. 22.622 s/100 steps\n",
      "Epoch: 7/10 Step: 500/766 Loss: 0.7355.. Train accuracy: 75.163.. Test accuracy: 72.800.. 21.475 s/100 steps\n",
      "Epoch: 7/10 Step: 600/766 Loss: 0.7628.. Train accuracy: 75.665.. Test accuracy: 73.400.. 20.968 s/100 steps\n",
      "Epoch: 7/10 Step: 700/766 Loss: 0.7571.. Train accuracy: 75.729.. Test accuracy: 72.300.. 20.928 s/100 steps\n",
      "Epoch: 8/10 Step: 0/766 Loss: 0.4937.. Train accuracy: 75.922.. Test accuracy: 73.600.. 27.270 s/100 steps\n",
      "Epoch: 8/10 Step: 100/766 Loss: 0.7026.. Train accuracy: 78.214.. Test accuracy: 76.000.. 20.902 s/100 steps\n",
      "Epoch: 8/10 Step: 200/766 Loss: 0.7134.. Train accuracy: 77.327.. Test accuracy: 75.400.. 21.011 s/100 steps\n",
      "Epoch: 8/10 Step: 300/766 Loss: 0.7259.. Train accuracy: 75.004.. Test accuracy: 74.400.. 20.942 s/100 steps\n",
      "Epoch: 8/10 Step: 400/766 Loss: 0.7298.. Train accuracy: 76.355.. Test accuracy: 73.400.. 20.913 s/100 steps\n",
      "Epoch: 8/10 Step: 500/766 Loss: 0.7077.. Train accuracy: 75.688.. Test accuracy: 75.000.. 20.963 s/100 steps\n",
      "Epoch: 8/10 Step: 600/766 Loss: 0.7276.. Train accuracy: 76.382.. Test accuracy: 73.800.. 20.888 s/100 steps\n",
      "Epoch: 8/10 Step: 700/766 Loss: 0.7404.. Train accuracy: 76.690.. Test accuracy: 75.200.. 20.964 s/100 steps\n",
      "Epoch: 9/10 Step: 0/766 Loss: 0.4645.. Train accuracy: 77.388.. Test accuracy: 72.900.. 27.317 s/100 steps\n",
      "Epoch: 9/10 Step: 100/766 Loss: 0.6687.. Train accuracy: 77.420.. Test accuracy: 73.500.. 20.941 s/100 steps\n",
      "Epoch: 9/10 Step: 200/766 Loss: 0.6969.. Train accuracy: 77.951.. Test accuracy: 76.500.. 20.872 s/100 steps\n",
      "Epoch: 9/10 Step: 300/766 Loss: 0.7144.. Train accuracy: 77.365.. Test accuracy: 74.600.. 21.002 s/100 steps\n",
      "Epoch: 9/10 Step: 400/766 Loss: 0.7078.. Train accuracy: 76.490.. Test accuracy: 75.200.. 20.973 s/100 steps\n",
      "Epoch: 9/10 Step: 500/766 Loss: 0.7155.. Train accuracy: 78.210.. Test accuracy: 74.600.. 21.282 s/100 steps\n",
      "Epoch: 9/10 Step: 600/766 Loss: 0.7031.. Train accuracy: 78.929.. Test accuracy: 77.100.. 20.974 s/100 steps\n",
      "Epoch: 9/10 Step: 700/766 Loss: 0.6989.. Train accuracy: 77.929.. Test accuracy: 74.900.. 21.464 s/100 steps\n",
      "Epoch: 10/10 Step: 0/766 Loss: 0.4702.. Train accuracy: 76.753.. Test accuracy: 74.800.. 28.315 s/100 steps\n",
      "Epoch: 10/10 Step: 100/766 Loss: 0.6714.. Train accuracy: 76.757.. Test accuracy: 74.300.. 21.763 s/100 steps\n",
      "Epoch: 10/10 Step: 200/766 Loss: 0.6652.. Train accuracy: 77.631.. Test accuracy: 76.100.. 21.405 s/100 steps\n"
     ]
    },
    {
     "name": "stdout",
     "output_type": "stream",
     "text": [
      "Epoch: 10/10 Step: 300/766 Loss: 0.6932.. Train accuracy: 77.941.. Test accuracy: 76.400.. 22.040 s/100 steps\n",
      "Epoch: 10/10 Step: 400/766 Loss: 0.6884.. Train accuracy: 78.504.. Test accuracy: 74.800.. 20.988 s/100 steps\n",
      "Epoch: 10/10 Step: 500/766 Loss: 0.6696.. Train accuracy: 78.929.. Test accuracy: 74.600.. 21.851 s/100 steps\n",
      "Epoch: 10/10 Step: 600/766 Loss: 0.7341.. Train accuracy: 77.337.. Test accuracy: 73.400.. 21.099 s/100 steps\n",
      "Epoch: 10/10 Step: 700/766 Loss: 0.6926.. Train accuracy: 77.918.. Test accuracy: 74.600.. 21.036 s/100 steps\n",
      "Best reached accuracy was 77.1\n"
     ]
    }
   ],
   "source": [
    "epochs = 10\n",
    "running_loss = 0\n",
    "print_every = 100\n",
    "best_accuracy_val = 0\n",
    "best_model = None\n",
    "nb_steps = len(trainloader)\n",
    "accuracy_val = []\n",
    "accuracy_tr = []\n",
    "losses = []\n",
    "\n",
    "for e in range(epochs):\n",
    "    start = time.time()\n",
    "    \n",
    "    for step, (images, labels) in enumerate(trainloader):\n",
    "        images, labels = images.to(device), labels.to(device)\n",
    "        \n",
    "        optimizer.zero_grad()\n",
    "        output = net(images)\n",
    "        loss = criterion(output, labels)\n",
    "        loss.backward()\n",
    "        optimizer.step()\n",
    "        \n",
    "        running_loss += loss.item()\n",
    "        \n",
    "        if step % print_every == 0: # Test accuracy\n",
    "            net.eval()\n",
    "            with torch.no_grad():\n",
    "\n",
    "                accuracy_tr.append(get_accuracy(net, trainloader))\n",
    "                accuracy_val.append(get_accuracy(net, valloader))\n",
    "                \n",
    "                if accuracy_val[-1] > best_accuracy_val: # Save best model\n",
    "                    best_model = copy.deepcopy(net)\n",
    "                    best_accuracy_val = accuracy_val[-1]\n",
    "                    \n",
    "\n",
    "                print(\"Epoch: {}/{}\".format(e+1, epochs),\n",
    "                      \"Step: {}/{}\".format(step, nb_steps),\n",
    "                      \"Loss: {:.4f}..\".format(running_loss/print_every),\n",
    "                      \"Train accuracy: {:.3f}..\".format(accuracy_tr[-1]),\n",
    "                      \"Test accuracy: {:.3f}..\".format(accuracy_val[-1]),\n",
    "                      \"{:.3f} s/{} steps\".format((time.time() - start), print_every)\n",
    "                     )\n",
    "            losses.append(running_loss/print_every)\n",
    "            running_loss = 0\n",
    "            start = time.time()\n",
    "            \n",
    "print(\"Best reached accuracy was {}\".format(best_accuracy_val))"
   ]
  },
  {
   "cell_type": "code",
   "execution_count": 10,
   "metadata": {},
   "outputs": [
    {
     "data": {
      "image/png": "[encoded data removed]",
      "text/plain": [
       "<Figure size 432x288 with 2 Axes>"
      ]
     },
     "metadata": {
      "needs_background": "light"
     },
     "output_type": "display_data"
    }
   ],
   "source": [
    "fig, ax1 = plt.subplots()\n",
    "\n",
    "color_tr = 'tab:green'\n",
    "color_val = 'tab:blue'\n",
    "ax1.set_xlabel(\"Step (x100)\")\n",
    "ax1.set_ylabel(\"Accuracy (train - green, validation - blue)\")\n",
    "ax1.plot(range(len(accuracy_tr)), accuracy_tr, color=color_tr)\n",
    "ax1.plot(range(len(accuracy_tr)), accuracy_val, color=color_val)\n",
    "ax1.tick_params(axis='y')\n",
    "\n",
    "ax2 = ax1.twinx()  # instantiate a second axes that shares the same x-axis\n",
    "\n",
    "color_loss = 'tab:red'\n",
    "ax2.set_ylabel(\"Loss\", color=color_loss)  # we already handled the x-label with ax1\n",
    "ax2.plot(range(len(losses)), losses, color=color_loss)\n",
    "ax2.tick_params(axis='y', labelcolor=color_loss)\n",
    "\n",
    "fig.tight_layout()\n",
    "plt.grid()\n",
    "plt.show()"
   ]
  },
  {
   "cell_type": "code",
   "execution_count": null,
   "metadata": {},
   "outputs": [],
   "source": []
  },
  {
   "cell_type": "markdown",
   "metadata": {},
   "source": [
    "Save best trained model."
   ]
  },
  {
   "cell_type": "code",
   "execution_count": 11,
   "metadata": {},
   "outputs": [],
   "source": [
    "model_name = \"model.ckpt\""
   ]
  },
  {
   "cell_type": "code",
   "execution_count": 12,
   "metadata": {},
   "outputs": [],
   "source": [
    "torch.save(best_model.state_dict(), model_name)"
   ]
  },
  {
   "cell_type": "code",
   "execution_count": null,
   "metadata": {},
   "outputs": [],
   "source": []
  },
  {
   "cell_type": "markdown",
   "metadata": {},
   "source": [
    "Test that saved correctly"
   ]
  },
  {
   "cell_type": "code",
   "execution_count": 13,
   "metadata": {},
   "outputs": [
    {
     "data": {
      "text/plain": [
       "<All keys matched successfully>"
      ]
     },
     "execution_count": 13,
     "metadata": {},
     "output_type": "execute_result"
    }
   ],
   "source": [
    "checkpoint = torch.load(model_name)\n",
    "net.load_state_dict(checkpoint)"
   ]
  },
  {
   "cell_type": "code",
   "execution_count": 14,
   "metadata": {},
   "outputs": [
    {
     "data": {
      "text/plain": [
       "(78.92857142857143, 77.1)"
      ]
     },
     "execution_count": 14,
     "metadata": {},
     "output_type": "execute_result"
    }
   ],
   "source": [
    "get_accuracy(net, trainloader), get_accuracy(net, valloader)"
   ]
  }
 ],
 "metadata": {
  "kernelspec": {
   "display_name": "Python 3",
   "language": "python",
   "name": "python3"
  },
  "language_info": {
   "codemirror_mode": {
    "name": "ipython",
    "version": 3
   },
   "file_extension": ".py",
   "mimetype": "text/x-python",
   "name": "python",
   "nbconvert_exporter": "python",
   "pygments_lexer": "ipython3",
   "version": "3.7.1"
  }
 },
 "nbformat": 4,
 "nbformat_minor": 2
}
