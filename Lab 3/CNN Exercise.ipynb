{
 "cells": [
  {
   "cell_type": "markdown",
   "metadata": {},
   "source": [
    "## Convolutional Networks\n",
    "\n",
    "We'll check out how to build a **convolutional network** to classify CIFAR10 images. By using weight sharing - multiple units with the same weights - convolutional layers are able to learn repeated patterns in your data. For example, a unit could learn the pattern for an eye, or a face, or lower level features like edges.\n"
   ]
  },
  {
   "cell_type": "code",
   "execution_count": 1,
   "metadata": {},
   "outputs": [],
   "source": [
    "import numpy as np\n",
    "import time\n",
    "\n",
    "import torch\n",
    "from torch import nn\n",
    "from torch import optim\n",
    "import torch.nn.functional as F\n",
    "import torch.utils.data as utils\n",
    "from torchvision import datasets, transforms\n",
    "from torch.utils.data.sampler import SubsetRandomSampler\n",
    "import copy\n",
    "from Network import ConvNetBig, ConvNetSmall"
   ]
  },
  {
   "cell_type": "code",
   "execution_count": 2,
   "metadata": {},
   "outputs": [
    {
     "name": "stdout",
     "output_type": "stream",
     "text": [
      "Files already downloaded and verified\n",
      "Files already downloaded and verified\n"
     ]
    }
   ],
   "source": [
    "def get_train_valid_loader(data_dir='data',\n",
    "                           batch_size=64,\n",
    "                           augment=False,\n",
    "                           random_seed = 1,\n",
    "                           valid_size=0.02,\n",
    "                           shuffle=True,\n",
    "                           show_sample=False,\n",
    "                           num_workers=4,\n",
    "                           pin_memory=False):\n",
    "    \"\"\"\n",
    "    Utility function for loading and returning train and valid\n",
    "    multi-process iterators over the CIFAR-10 dataset. A sample\n",
    "    9x9 grid of the images can be optionally displayed.\n",
    "    If using CUDA, num_workers should be set to 1 and pin_memory to True.\n",
    "    Params\n",
    "    ------\n",
    "    - data_dir: path directory to the dataset.\n",
    "    - batch_size: how many samples per batch to load.\n",
    "    - augment: whether to apply the data augmentation scheme\n",
    "      mentioned in the paper. Only applied on the train split.\n",
    "    - random_seed: fix seed for reproducibility.\n",
    "    - valid_size: percentage split of the training set used for\n",
    "      the validation set. Should be a float in the range [0, 1].\n",
    "    - shuffle: whether to shuffle the train/validation indices.\n",
    "    - show_sample: plot 9x9 sample grid of the dataset.\n",
    "    - num_workers: number of subprocesses to use when loading the dataset.\n",
    "    - pin_memory: whether to copy tensors into CUDA pinned memory. Set it to\n",
    "      True if using GPU.\n",
    "    Returns\n",
    "    -------\n",
    "    - train_loader: training set iterator.\n",
    "    - valid_loader: validation set iterator.\n",
    "    \"\"\"\n",
    "    error_msg = \"[!] valid_size should be in the range [0, 1].\"\n",
    "    assert ((valid_size >= 0) and (valid_size <= 1)), error_msg\n",
    "\n",
    "    normalize = transforms.Normalize(\n",
    "        mean=[0.4914, 0.4822, 0.4465],\n",
    "        std=[0.2023, 0.1994, 0.2010],\n",
    "    )\n",
    "\n",
    "    # define transforms\n",
    "    valid_transform = transforms.Compose([\n",
    "            transforms.ToTensor(),\n",
    "            normalize,\n",
    "    ])\n",
    "    if augment:\n",
    "        train_transform = transforms.Compose([\n",
    "            transforms.RandomCrop(32, padding=4),\n",
    "            transforms.RandomHorizontalFlip(),\n",
    "            transforms.ToTensor(),\n",
    "            normalize,\n",
    "        ])\n",
    "    else:\n",
    "        train_transform = transforms.Compose([\n",
    "            transforms.ToTensor(),\n",
    "            normalize,\n",
    "        ])\n",
    "\n",
    "    # load the dataset\n",
    "    train_dataset = datasets.CIFAR10(\n",
    "        root=data_dir, train=True,\n",
    "        download=True, transform=train_transform,\n",
    "    )\n",
    "\n",
    "    valid_dataset = datasets.CIFAR10(\n",
    "        root=data_dir, train=True,\n",
    "        download=True, transform=valid_transform,\n",
    "    )\n",
    "\n",
    "    num_train = len(train_dataset)\n",
    "    indices = list(range(num_train))\n",
    "    split = int(np.floor(valid_size * num_train))\n",
    "\n",
    "    if shuffle:\n",
    "        np.random.seed(random_seed)\n",
    "        np.random.shuffle(indices)\n",
    "\n",
    "    train_idx, valid_idx = indices[split:], indices[:split]\n",
    "    train_sampler = SubsetRandomSampler(train_idx)\n",
    "    valid_sampler = SubsetRandomSampler(valid_idx)\n",
    "\n",
    "    train_loader = torch.utils.data.DataLoader(\n",
    "        train_dataset, batch_size=batch_size, sampler=train_sampler,\n",
    "        num_workers=num_workers, pin_memory=pin_memory,\n",
    "    )\n",
    "    valid_loader = torch.utils.data.DataLoader(\n",
    "        valid_dataset, batch_size=batch_size, sampler=valid_sampler,\n",
    "        num_workers=num_workers, pin_memory=pin_memory,\n",
    "    )\n",
    "\n",
    "    # visualize some images\n",
    "    if show_sample:\n",
    "        sample_loader = torch.utils.data.DataLoader(\n",
    "            train_dataset, batch_size=9, shuffle=shuffle,\n",
    "            num_workers=num_workers, pin_memory=pin_memory,\n",
    "        )\n",
    "        data_iter = iter(sample_loader)\n",
    "        images, labels = data_iter.next()\n",
    "        X = images.numpy().transpose([0, 2, 3, 1])\n",
    "        plot_images(X, labels)\n",
    "\n",
    "    return (train_loader, valid_loader)\n",
    "\n",
    "trainloader, valloader = get_train_valid_loader()"
   ]
  },
  {
   "cell_type": "code",
   "execution_count": 3,
   "metadata": {},
   "outputs": [
    {
     "name": "stdout",
     "output_type": "stream",
     "text": [
      "ConvNetSmall(\n",
      "  (conv1): Conv2d(3, 6, kernel_size=(5, 5), stride=(1, 1))\n",
      "  (pool): MaxPool2d(kernel_size=2, stride=2, padding=0, dilation=1, ceil_mode=False)\n",
      "  (conv2): Conv2d(6, 16, kernel_size=(5, 5), stride=(1, 1))\n",
      "  (fc1): Linear(in_features=400, out_features=120, bias=True)\n",
      "  (fc2): Linear(in_features=120, out_features=84, bias=True)\n",
      "  (fc3): Linear(in_features=84, out_features=10, bias=True)\n",
      ")\n"
     ]
    }
   ],
   "source": [
    "# net = ConvNetBig()\n",
    "net = ConvNetSmall()\n",
    "\n",
    "criterion = nn.CrossEntropyLoss()\n",
    "optimizer = optim.Adam(net.parameters(), lr=0.001)"
   ]
  },
  {
   "cell_type": "code",
   "execution_count": 7,
   "metadata": {},
   "outputs": [
    {
     "name": "stdout",
     "output_type": "stream",
     "text": [
      "cuda:0\n"
     ]
    }
   ],
   "source": [
    "device = torch.device(\"cuda:0\" if torch.cuda.is_available() else \"cpu\")\n",
    "print(device)"
   ]
  },
  {
   "cell_type": "code",
   "execution_count": 8,
   "metadata": {},
   "outputs": [
    {
     "data": {
      "text/plain": [
       "ConvNetSmall(\n",
       "  (conv1): Conv2d(3, 6, kernel_size=(5, 5), stride=(1, 1))\n",
       "  (pool): MaxPool2d(kernel_size=2, stride=2, padding=0, dilation=1, ceil_mode=False)\n",
       "  (conv2): Conv2d(6, 16, kernel_size=(5, 5), stride=(1, 1))\n",
       "  (fc1): Linear(in_features=400, out_features=120, bias=True)\n",
       "  (fc2): Linear(in_features=120, out_features=84, bias=True)\n",
       "  (fc3): Linear(in_features=84, out_features=10, bias=True)\n",
       ")"
      ]
     },
     "execution_count": 8,
     "metadata": {},
     "output_type": "execute_result"
    }
   ],
   "source": [
    "net.to(device)"
   ]
  },
  {
   "cell_type": "code",
   "execution_count": 4,
   "metadata": {},
   "outputs": [],
   "source": [
    "# from torchsummary import summary\n",
    "# summary(net, input_size=(3, 32, 32))"
   ]
  },
  {
   "cell_type": "code",
   "execution_count": 6,
   "metadata": {},
   "outputs": [],
   "source": [
    "def get_accuracy(model, dataloader):\n",
    "    total = 0\n",
    "    correct = 0\n",
    "    for (images, labels) in iter(dataloader):\n",
    "        images, labels = images.to(device), labels.to(device)\n",
    "        predicted = model.predict(images)\n",
    "        total += labels.size(0)\n",
    "        correct += (predicted == labels).sum().item()\n",
    "    return 100 * correct / total"
   ]
  },
  {
   "cell_type": "code",
   "execution_count": 12,
   "metadata": {},
   "outputs": [
    {
     "name": "stdout",
     "output_type": "stream",
     "text": [
      "Epoch: 1/5 Step: 0/766 Loss: 0.1157.. Train accuracy: 8.643.. Test accuracy: 9.300.. 10.924 s/20 steps\n",
      "Epoch: 1/5 Step: 20/766 Loss: 2.2651.. Train accuracy: 19.102.. Test accuracy: 18.900.. 0.308 s/20 steps\n",
      "Epoch: 1/5 Step: 40/766 Loss: 2.0919.. Train accuracy: 24.406.. Test accuracy: 24.700.. 0.322 s/20 steps\n",
      "Epoch: 1/5 Step: 60/766 Loss: 1.9748.. Train accuracy: 27.239.. Test accuracy: 27.200.. 0.313 s/20 steps\n",
      "Epoch: 1/5 Step: 80/766 Loss: 1.9300.. Train accuracy: 31.524.. Test accuracy: 32.500.. 0.305 s/20 steps\n",
      "Epoch: 1/5 Step: 100/766 Loss: 1.8999.. Train accuracy: 32.480.. Test accuracy: 32.800.. 0.339 s/20 steps\n",
      "Epoch: 1/5 Step: 120/766 Loss: 1.8928.. Train accuracy: 31.620.. Test accuracy: 32.300.. 0.319 s/20 steps\n",
      "Epoch: 1/5 Step: 140/766 Loss: 1.8193.. Train accuracy: 36.565.. Test accuracy: 34.600.. 0.309 s/20 steps\n",
      "Epoch: 1/5 Step: 160/766 Loss: 1.7644.. Train accuracy: 36.408.. Test accuracy: 35.700.. 0.319 s/20 steps\n",
      "Epoch: 1/5 Step: 180/766 Loss: 1.7580.. Train accuracy: 39.027.. Test accuracy: 38.400.. 0.317 s/20 steps\n",
      "Epoch: 1/5 Step: 200/766 Loss: 1.6761.. Train accuracy: 39.459.. Test accuracy: 37.000.. 0.321 s/20 steps\n",
      "Epoch: 1/5 Step: 220/766 Loss: 1.6271.. Train accuracy: 39.602.. Test accuracy: 39.900.. 0.339 s/20 steps\n",
      "Epoch: 1/5 Step: 240/766 Loss: 1.6654.. Train accuracy: 39.606.. Test accuracy: 37.500.. 0.321 s/20 steps\n",
      "Epoch: 1/5 Step: 260/766 Loss: 1.6779.. Train accuracy: 40.965.. Test accuracy: 39.900.. 0.321 s/20 steps\n",
      "Epoch: 1/5 Step: 280/766 Loss: 1.6164.. Train accuracy: 40.680.. Test accuracy: 39.500.. 0.321 s/20 steps\n",
      "Epoch: 1/5 Step: 300/766 Loss: 1.6322.. Train accuracy: 38.943.. Test accuracy: 36.200.. 0.330 s/20 steps\n",
      "Epoch: 1/5 Step: 320/766 Loss: 1.5895.. Train accuracy: 42.110.. Test accuracy: 39.800.. 0.328 s/20 steps\n",
      "Epoch: 1/5 Step: 340/766 Loss: 1.6199.. Train accuracy: 43.073.. Test accuracy: 40.200.. 0.331 s/20 steps\n",
      "Epoch: 1/5 Step: 360/766 Loss: 1.5780.. Train accuracy: 43.306.. Test accuracy: 40.600.. 0.336 s/20 steps\n",
      "Epoch: 1/5 Step: 380/766 Loss: 1.5880.. Train accuracy: 42.147.. Test accuracy: 41.900.. 0.350 s/20 steps\n",
      "Epoch: 1/5 Step: 400/766 Loss: 1.5890.. Train accuracy: 43.439.. Test accuracy: 41.900.. 0.320 s/20 steps\n",
      "Epoch: 1/5 Step: 420/766 Loss: 1.5507.. Train accuracy: 43.978.. Test accuracy: 41.300.. 0.323 s/20 steps\n",
      "Epoch: 1/5 Step: 440/766 Loss: 1.5336.. Train accuracy: 41.808.. Test accuracy: 40.700.. 0.342 s/20 steps\n",
      "Epoch: 1/5 Step: 460/766 Loss: 1.5523.. Train accuracy: 45.249.. Test accuracy: 45.000.. 0.342 s/20 steps\n",
      "Epoch: 1/5 Step: 480/766 Loss: 1.5381.. Train accuracy: 44.178.. Test accuracy: 42.300.. 0.331 s/20 steps\n",
      "Epoch: 1/5 Step: 500/766 Loss: 1.5417.. Train accuracy: 45.671.. Test accuracy: 44.300.. 0.344 s/20 steps\n",
      "Epoch: 1/5 Step: 520/766 Loss: 1.5135.. Train accuracy: 45.769.. Test accuracy: 45.200.. 0.331 s/20 steps\n",
      "Epoch: 1/5 Step: 540/766 Loss: 1.4978.. Train accuracy: 46.180.. Test accuracy: 42.500.. 0.316 s/20 steps\n",
      "Epoch: 1/5 Step: 560/766 Loss: 1.5203.. Train accuracy: 46.412.. Test accuracy: 45.400.. 0.311 s/20 steps\n",
      "Epoch: 1/5 Step: 580/766 Loss: 1.5016.. Train accuracy: 46.847.. Test accuracy: 45.300.. 0.322 s/20 steps\n",
      "Epoch: 1/5 Step: 600/766 Loss: 1.4585.. Train accuracy: 46.998.. Test accuracy: 44.900.. 0.313 s/20 steps\n",
      "Epoch: 1/5 Step: 620/766 Loss: 1.4553.. Train accuracy: 47.420.. Test accuracy: 46.800.. 0.380 s/20 steps\n",
      "Epoch: 1/5 Step: 640/766 Loss: 1.4781.. Train accuracy: 47.200.. Test accuracy: 44.600.. 0.343 s/20 steps\n",
      "Epoch: 1/5 Step: 660/766 Loss: 1.5128.. Train accuracy: 48.337.. Test accuracy: 47.900.. 0.328 s/20 steps\n",
      "Epoch: 1/5 Step: 680/766 Loss: 1.4459.. Train accuracy: 48.084.. Test accuracy: 45.600.. 0.322 s/20 steps\n",
      "Epoch: 1/5 Step: 700/766 Loss: 1.4812.. Train accuracy: 46.871.. Test accuracy: 46.200.. 0.337 s/20 steps\n",
      "Epoch: 1/5 Step: 720/766 Loss: 1.4672.. Train accuracy: 48.465.. Test accuracy: 47.900.. 0.329 s/20 steps\n",
      "Epoch: 1/5 Step: 740/766 Loss: 1.4434.. Train accuracy: 49.561.. Test accuracy: 49.000.. 0.355 s/20 steps\n",
      "Epoch: 1/5 Step: 760/766 Loss: 1.4586.. Train accuracy: 48.318.. Test accuracy: 47.000.. 0.311 s/20 steps\n",
      "Epoch: 2/5 Step: 0/766 Loss: 0.4514.. Train accuracy: 50.118.. Test accuracy: 48.000.. 8.097 s/20 steps\n",
      "Epoch: 2/5 Step: 20/766 Loss: 1.4025.. Train accuracy: 49.298.. Test accuracy: 46.400.. 0.404 s/20 steps\n",
      "Epoch: 2/5 Step: 40/766 Loss: 1.4002.. Train accuracy: 49.314.. Test accuracy: 48.600.. 0.341 s/20 steps\n",
      "Epoch: 2/5 Step: 60/766 Loss: 1.4153.. Train accuracy: 48.690.. Test accuracy: 45.400.. 0.364 s/20 steps\n",
      "Epoch: 2/5 Step: 80/766 Loss: 1.3800.. Train accuracy: 48.978.. Test accuracy: 47.000.. 0.347 s/20 steps\n",
      "Epoch: 2/5 Step: 100/766 Loss: 1.4338.. Train accuracy: 50.243.. Test accuracy: 47.900.. 0.377 s/20 steps\n",
      "Epoch: 2/5 Step: 120/766 Loss: 1.3637.. Train accuracy: 50.220.. Test accuracy: 47.800.. 0.362 s/20 steps\n",
      "Epoch: 2/5 Step: 140/766 Loss: 1.3796.. Train accuracy: 50.888.. Test accuracy: 47.800.. 0.375 s/20 steps\n",
      "Epoch: 2/5 Step: 160/766 Loss: 1.4062.. Train accuracy: 50.490.. Test accuracy: 48.300.. 0.376 s/20 steps\n",
      "Epoch: 2/5 Step: 180/766 Loss: 1.3741.. Train accuracy: 50.314.. Test accuracy: 48.200.. 0.389 s/20 steps\n",
      "Epoch: 2/5 Step: 200/766 Loss: 1.3885.. Train accuracy: 50.431.. Test accuracy: 49.400.. 0.387 s/20 steps\n",
      "Epoch: 2/5 Step: 220/766 Loss: 1.3626.. Train accuracy: 50.837.. Test accuracy: 49.600.. 0.399 s/20 steps\n",
      "Epoch: 2/5 Step: 240/766 Loss: 1.3884.. Train accuracy: 50.935.. Test accuracy: 50.100.. 0.418 s/20 steps\n",
      "Epoch: 2/5 Step: 260/766 Loss: 1.3737.. Train accuracy: 50.390.. Test accuracy: 48.300.. 0.338 s/20 steps\n",
      "Epoch: 2/5 Step: 280/766 Loss: 1.3358.. Train accuracy: 52.353.. Test accuracy: 50.900.. 0.824 s/20 steps\n",
      "Epoch: 2/5 Step: 300/766 Loss: 1.3171.. Train accuracy: 50.412.. Test accuracy: 50.800.. 0.216 s/20 steps\n",
      "Epoch: 2/5 Step: 320/766 Loss: 1.3850.. Train accuracy: 51.173.. Test accuracy: 49.100.. 0.217 s/20 steps\n",
      "Epoch: 2/5 Step: 340/766 Loss: 1.2956.. Train accuracy: 52.596.. Test accuracy: 50.100.. 0.209 s/20 steps\n",
      "Epoch: 2/5 Step: 360/766 Loss: 1.3687.. Train accuracy: 52.082.. Test accuracy: 49.800.. 0.220 s/20 steps\n",
      "Epoch: 2/5 Step: 380/766 Loss: 1.3593.. Train accuracy: 52.441.. Test accuracy: 51.300.. 0.239 s/20 steps\n",
      "Epoch: 2/5 Step: 400/766 Loss: 1.3266.. Train accuracy: 52.769.. Test accuracy: 50.800.. 0.234 s/20 steps\n",
      "Epoch: 2/5 Step: 420/766 Loss: 1.3196.. Train accuracy: 53.608.. Test accuracy: 51.700.. 0.232 s/20 steps\n",
      "Epoch: 2/5 Step: 440/766 Loss: 1.3416.. Train accuracy: 53.065.. Test accuracy: 50.900.. 0.238 s/20 steps\n",
      "Epoch: 2/5 Step: 460/766 Loss: 1.3217.. Train accuracy: 53.139.. Test accuracy: 51.800.. 0.252 s/20 steps\n",
      "Epoch: 2/5 Step: 480/766 Loss: 1.3516.. Train accuracy: 52.873.. Test accuracy: 51.400.. 0.240 s/20 steps\n",
      "Epoch: 2/5 Step: 500/766 Loss: 1.3348.. Train accuracy: 52.724.. Test accuracy: 50.700.. 0.235 s/20 steps\n",
      "Epoch: 2/5 Step: 520/766 Loss: 1.3365.. Train accuracy: 52.939.. Test accuracy: 50.500.. 0.234 s/20 steps\n",
      "Epoch: 2/5 Step: 540/766 Loss: 1.3672.. Train accuracy: 52.408.. Test accuracy: 50.200.. 0.233 s/20 steps\n",
      "Epoch: 2/5 Step: 560/766 Loss: 1.3249.. Train accuracy: 54.176.. Test accuracy: 52.900.. 0.231 s/20 steps\n",
      "Epoch: 2/5 Step: 580/766 Loss: 1.3231.. Train accuracy: 53.482.. Test accuracy: 48.900.. 0.232 s/20 steps\n",
      "Epoch: 2/5 Step: 600/766 Loss: 1.2837.. Train accuracy: 54.145.. Test accuracy: 50.700.. 0.234 s/20 steps\n",
      "Epoch: 2/5 Step: 620/766 Loss: 1.2885.. Train accuracy: 53.688.. Test accuracy: 49.400.. 0.229 s/20 steps\n",
      "Epoch: 2/5 Step: 640/766 Loss: 1.3029.. Train accuracy: 53.876.. Test accuracy: 51.400.. 0.234 s/20 steps\n",
      "Epoch: 2/5 Step: 660/766 Loss: 1.3369.. Train accuracy: 55.257.. Test accuracy: 52.300.. 0.232 s/20 steps\n",
      "Epoch: 2/5 Step: 680/766 Loss: 1.3367.. Train accuracy: 55.512.. Test accuracy: 52.600.. 0.236 s/20 steps\n",
      "Epoch: 2/5 Step: 700/766 Loss: 1.3009.. Train accuracy: 55.359.. Test accuracy: 53.100.. 0.230 s/20 steps\n",
      "Epoch: 2/5 Step: 720/766 Loss: 1.2760.. Train accuracy: 54.412.. Test accuracy: 52.200.. 0.226 s/20 steps\n",
      "Epoch: 2/5 Step: 740/766 Loss: 1.3254.. Train accuracy: 55.082.. Test accuracy: 51.900.. 0.236 s/20 steps\n"
     ]
    },
    {
     "name": "stdout",
     "output_type": "stream",
     "text": [
      "Epoch: 2/5 Step: 760/766 Loss: 1.2719.. Train accuracy: 55.145.. Test accuracy: 52.500.. 0.234 s/20 steps\n",
      "Epoch: 3/5 Step: 0/766 Loss: 0.3761.. Train accuracy: 55.700.. Test accuracy: 53.200.. 8.743 s/20 steps\n",
      "Epoch: 3/5 Step: 20/766 Loss: 1.2482.. Train accuracy: 54.457.. Test accuracy: 52.300.. 0.239 s/20 steps\n",
      "Epoch: 3/5 Step: 40/766 Loss: 1.2677.. Train accuracy: 54.702.. Test accuracy: 52.600.. 0.233 s/20 steps\n",
      "Epoch: 3/5 Step: 60/766 Loss: 1.2651.. Train accuracy: 56.102.. Test accuracy: 53.300.. 0.241 s/20 steps\n",
      "Epoch: 3/5 Step: 80/766 Loss: 1.2672.. Train accuracy: 53.908.. Test accuracy: 50.200.. 0.231 s/20 steps\n",
      "Epoch: 3/5 Step: 100/766 Loss: 1.2366.. Train accuracy: 56.749.. Test accuracy: 53.500.. 0.236 s/20 steps\n",
      "Epoch: 3/5 Step: 120/766 Loss: 1.2384.. Train accuracy: 55.978.. Test accuracy: 53.100.. 0.234 s/20 steps\n",
      "Epoch: 3/5 Step: 140/766 Loss: 1.2533.. Train accuracy: 55.837.. Test accuracy: 51.900.. 0.231 s/20 steps\n",
      "Epoch: 3/5 Step: 160/766 Loss: 1.2377.. Train accuracy: 55.853.. Test accuracy: 52.500.. 0.229 s/20 steps\n",
      "Epoch: 3/5 Step: 180/766 Loss: 1.2520.. Train accuracy: 56.759.. Test accuracy: 54.400.. 0.231 s/20 steps\n",
      "Epoch: 3/5 Step: 200/766 Loss: 1.2404.. Train accuracy: 56.761.. Test accuracy: 53.300.. 0.232 s/20 steps\n",
      "Epoch: 3/5 Step: 220/766 Loss: 1.2406.. Train accuracy: 57.057.. Test accuracy: 52.600.. 0.238 s/20 steps\n",
      "Epoch: 3/5 Step: 240/766 Loss: 1.1955.. Train accuracy: 57.161.. Test accuracy: 53.600.. 0.233 s/20 steps\n",
      "Epoch: 3/5 Step: 260/766 Loss: 1.2357.. Train accuracy: 57.984.. Test accuracy: 53.900.. 0.234 s/20 steps\n",
      "Epoch: 3/5 Step: 280/766 Loss: 1.2033.. Train accuracy: 57.627.. Test accuracy: 54.200.. 0.229 s/20 steps\n",
      "Epoch: 3/5 Step: 300/766 Loss: 1.2310.. Train accuracy: 58.322.. Test accuracy: 55.200.. 0.229 s/20 steps\n",
      "Epoch: 3/5 Step: 320/766 Loss: 1.2114.. Train accuracy: 57.053.. Test accuracy: 51.700.. 0.230 s/20 steps\n",
      "Epoch: 3/5 Step: 340/766 Loss: 1.2635.. Train accuracy: 57.739.. Test accuracy: 55.200.. 0.220 s/20 steps\n",
      "Epoch: 3/5 Step: 360/766 Loss: 1.2479.. Train accuracy: 58.033.. Test accuracy: 55.100.. 0.294 s/20 steps\n",
      "Epoch: 3/5 Step: 380/766 Loss: 1.2055.. Train accuracy: 57.976.. Test accuracy: 55.300.. 0.235 s/20 steps\n",
      "Epoch: 3/5 Step: 400/766 Loss: 1.2063.. Train accuracy: 57.180.. Test accuracy: 53.300.. 0.246 s/20 steps\n",
      "Epoch: 3/5 Step: 420/766 Loss: 1.2603.. Train accuracy: 58.194.. Test accuracy: 54.500.. 0.234 s/20 steps\n",
      "Epoch: 3/5 Step: 440/766 Loss: 1.1581.. Train accuracy: 57.776.. Test accuracy: 53.300.. 0.235 s/20 steps\n",
      "Epoch: 3/5 Step: 460/766 Loss: 1.1844.. Train accuracy: 57.376.. Test accuracy: 53.600.. 0.230 s/20 steps\n",
      "Epoch: 3/5 Step: 480/766 Loss: 1.2079.. Train accuracy: 58.231.. Test accuracy: 55.200.. 0.230 s/20 steps\n",
      "Epoch: 3/5 Step: 500/766 Loss: 1.2406.. Train accuracy: 57.704.. Test accuracy: 56.200.. 0.241 s/20 steps\n",
      "Epoch: 3/5 Step: 520/766 Loss: 1.2186.. Train accuracy: 57.329.. Test accuracy: 54.700.. 0.235 s/20 steps\n",
      "Epoch: 3/5 Step: 540/766 Loss: 1.2110.. Train accuracy: 57.671.. Test accuracy: 53.500.. 0.226 s/20 steps\n",
      "Epoch: 3/5 Step: 560/766 Loss: 1.2045.. Train accuracy: 59.180.. Test accuracy: 55.200.. 0.233 s/20 steps\n",
      "Epoch: 3/5 Step: 580/766 Loss: 1.1908.. Train accuracy: 58.622.. Test accuracy: 52.800.. 0.241 s/20 steps\n",
      "Epoch: 3/5 Step: 600/766 Loss: 1.1785.. Train accuracy: 57.906.. Test accuracy: 53.500.. 0.230 s/20 steps\n",
      "Epoch: 3/5 Step: 620/766 Loss: 1.1437.. Train accuracy: 58.543.. Test accuracy: 55.200.. 0.247 s/20 steps\n",
      "Epoch: 3/5 Step: 640/766 Loss: 1.1883.. Train accuracy: 59.412.. Test accuracy: 56.000.. 0.240 s/20 steps\n",
      "Epoch: 3/5 Step: 660/766 Loss: 1.1537.. Train accuracy: 56.827.. Test accuracy: 53.600.. 0.233 s/20 steps\n",
      "Epoch: 3/5 Step: 680/766 Loss: 1.2220.. Train accuracy: 58.888.. Test accuracy: 54.500.. 0.216 s/20 steps\n",
      "Epoch: 3/5 Step: 700/766 Loss: 1.1811.. Train accuracy: 58.859.. Test accuracy: 53.900.. 0.217 s/20 steps\n",
      "Epoch: 3/5 Step: 720/766 Loss: 1.1934.. Train accuracy: 59.769.. Test accuracy: 56.400.. 0.207 s/20 steps\n",
      "Epoch: 3/5 Step: 740/766 Loss: 1.1736.. Train accuracy: 58.729.. Test accuracy: 53.100.. 0.207 s/20 steps\n",
      "Epoch: 3/5 Step: 760/766 Loss: 1.1868.. Train accuracy: 60.565.. Test accuracy: 57.100.. 0.211 s/20 steps\n",
      "Epoch: 4/5 Step: 0/766 Loss: 0.3382.. Train accuracy: 59.718.. Test accuracy: 55.800.. 7.992 s/20 steps\n",
      "Epoch: 4/5 Step: 20/766 Loss: 1.1466.. Train accuracy: 59.371.. Test accuracy: 56.400.. 0.275 s/20 steps\n",
      "Epoch: 4/5 Step: 40/766 Loss: 1.1693.. Train accuracy: 59.843.. Test accuracy: 55.400.. 0.236 s/20 steps\n",
      "Epoch: 4/5 Step: 60/766 Loss: 1.1026.. Train accuracy: 60.563.. Test accuracy: 56.900.. 0.230 s/20 steps\n",
      "Epoch: 4/5 Step: 80/766 Loss: 1.1321.. Train accuracy: 60.106.. Test accuracy: 55.700.. 0.227 s/20 steps\n",
      "Epoch: 4/5 Step: 100/766 Loss: 1.1845.. Train accuracy: 59.788.. Test accuracy: 57.300.. 0.227 s/20 steps\n",
      "Epoch: 4/5 Step: 120/766 Loss: 1.1468.. Train accuracy: 60.237.. Test accuracy: 56.200.. 0.225 s/20 steps\n",
      "Epoch: 4/5 Step: 140/766 Loss: 1.1368.. Train accuracy: 60.169.. Test accuracy: 56.900.. 0.221 s/20 steps\n",
      "Epoch: 4/5 Step: 160/766 Loss: 1.1668.. Train accuracy: 59.345.. Test accuracy: 56.200.. 0.221 s/20 steps\n",
      "Epoch: 4/5 Step: 180/766 Loss: 1.1376.. Train accuracy: 59.778.. Test accuracy: 56.500.. 0.242 s/20 steps\n",
      "Epoch: 4/5 Step: 200/766 Loss: 1.1082.. Train accuracy: 59.978.. Test accuracy: 55.700.. 0.243 s/20 steps\n",
      "Epoch: 4/5 Step: 220/766 Loss: 1.1369.. Train accuracy: 59.859.. Test accuracy: 56.800.. 0.246 s/20 steps\n",
      "Epoch: 4/5 Step: 240/766 Loss: 1.1728.. Train accuracy: 60.639.. Test accuracy: 55.800.. 0.243 s/20 steps\n",
      "Epoch: 4/5 Step: 260/766 Loss: 1.1376.. Train accuracy: 60.549.. Test accuracy: 56.500.. 0.231 s/20 steps\n",
      "Epoch: 4/5 Step: 280/766 Loss: 1.1550.. Train accuracy: 61.178.. Test accuracy: 56.200.. 0.237 s/20 steps\n",
      "Epoch: 4/5 Step: 300/766 Loss: 1.1724.. Train accuracy: 60.537.. Test accuracy: 55.100.. 0.235 s/20 steps\n",
      "Epoch: 4/5 Step: 320/766 Loss: 1.1662.. Train accuracy: 60.296.. Test accuracy: 54.700.. 0.238 s/20 steps\n",
      "Epoch: 4/5 Step: 340/766 Loss: 1.1497.. Train accuracy: 60.661.. Test accuracy: 56.200.. 0.233 s/20 steps\n",
      "Epoch: 4/5 Step: 360/766 Loss: 1.1410.. Train accuracy: 60.837.. Test accuracy: 55.500.. 0.238 s/20 steps\n",
      "Epoch: 4/5 Step: 380/766 Loss: 1.1297.. Train accuracy: 60.212.. Test accuracy: 56.200.. 0.238 s/20 steps\n",
      "Epoch: 4/5 Step: 400/766 Loss: 1.1452.. Train accuracy: 61.398.. Test accuracy: 56.000.. 0.229 s/20 steps\n",
      "Epoch: 4/5 Step: 420/766 Loss: 1.1501.. Train accuracy: 60.867.. Test accuracy: 55.500.. 0.232 s/20 steps\n",
      "Epoch: 4/5 Step: 440/766 Loss: 1.0872.. Train accuracy: 60.241.. Test accuracy: 55.200.. 0.289 s/20 steps\n",
      "Epoch: 4/5 Step: 460/766 Loss: 1.0550.. Train accuracy: 60.684.. Test accuracy: 55.800.. 0.235 s/20 steps\n",
      "Epoch: 4/5 Step: 480/766 Loss: 1.1505.. Train accuracy: 60.590.. Test accuracy: 55.900.. 0.234 s/20 steps\n",
      "Epoch: 4/5 Step: 500/766 Loss: 1.1594.. Train accuracy: 61.690.. Test accuracy: 56.500.. 0.228 s/20 steps\n",
      "Epoch: 4/5 Step: 520/766 Loss: 1.0821.. Train accuracy: 62.127.. Test accuracy: 56.800.. 0.232 s/20 steps\n",
      "Epoch: 4/5 Step: 540/766 Loss: 1.0673.. Train accuracy: 62.416.. Test accuracy: 57.600.. 0.238 s/20 steps\n",
      "Epoch: 4/5 Step: 560/766 Loss: 1.1326.. Train accuracy: 62.310.. Test accuracy: 58.900.. 0.229 s/20 steps\n",
      "Epoch: 4/5 Step: 580/766 Loss: 1.1199.. Train accuracy: 60.169.. Test accuracy: 56.600.. 0.231 s/20 steps\n",
      "Epoch: 4/5 Step: 600/766 Loss: 1.1933.. Train accuracy: 62.214.. Test accuracy: 57.800.. 0.236 s/20 steps\n",
      "Epoch: 4/5 Step: 620/766 Loss: 1.0592.. Train accuracy: 61.969.. Test accuracy: 57.600.. 0.241 s/20 steps\n",
      "Epoch: 4/5 Step: 640/766 Loss: 1.1097.. Train accuracy: 60.596.. Test accuracy: 56.600.. 0.231 s/20 steps\n"
     ]
    },
    {
     "ename": "KeyboardInterrupt",
     "evalue": "",
     "output_type": "error",
     "traceback": [
      "\u001b[1;31m---------------------------------------------------------------------------\u001b[0m",
      "\u001b[1;31mKeyboardInterrupt\u001b[0m                         Traceback (most recent call last)",
      "\u001b[1;32m<ipython-input-12-cec3f04f78fc>\u001b[0m in \u001b[0;36m<module>\u001b[1;34m\u001b[0m\n\u001b[0;32m     25\u001b[0m             \u001b[1;32mwith\u001b[0m \u001b[0mtorch\u001b[0m\u001b[1;33m.\u001b[0m\u001b[0mno_grad\u001b[0m\u001b[1;33m(\u001b[0m\u001b[1;33m)\u001b[0m\u001b[1;33m:\u001b[0m\u001b[1;33m\u001b[0m\u001b[1;33m\u001b[0m\u001b[0m\n\u001b[0;32m     26\u001b[0m \u001b[1;33m\u001b[0m\u001b[0m\n\u001b[1;32m---> 27\u001b[1;33m                 \u001b[0maccuracy_tr\u001b[0m \u001b[1;33m=\u001b[0m \u001b[0mget_accuracy\u001b[0m\u001b[1;33m(\u001b[0m\u001b[0mnet\u001b[0m\u001b[1;33m,\u001b[0m \u001b[0mtrainloader\u001b[0m\u001b[1;33m)\u001b[0m\u001b[1;33m\u001b[0m\u001b[1;33m\u001b[0m\u001b[0m\n\u001b[0m\u001b[0;32m     28\u001b[0m                 \u001b[0maccuracy_val\u001b[0m \u001b[1;33m=\u001b[0m \u001b[0mget_accuracy\u001b[0m\u001b[1;33m(\u001b[0m\u001b[0mnet\u001b[0m\u001b[1;33m,\u001b[0m \u001b[0mvalloader\u001b[0m\u001b[1;33m)\u001b[0m\u001b[1;33m\u001b[0m\u001b[1;33m\u001b[0m\u001b[0m\n\u001b[0;32m     29\u001b[0m \u001b[1;33m\u001b[0m\u001b[0m\n",
      "\u001b[1;32m<ipython-input-6-daa672969d87>\u001b[0m in \u001b[0;36mget_accuracy\u001b[1;34m(model, dataloader)\u001b[0m\n\u001b[0;32m      3\u001b[0m     \u001b[0mcorrect\u001b[0m \u001b[1;33m=\u001b[0m \u001b[1;36m0\u001b[0m\u001b[1;33m\u001b[0m\u001b[1;33m\u001b[0m\u001b[0m\n\u001b[0;32m      4\u001b[0m     \u001b[1;32mfor\u001b[0m \u001b[1;33m(\u001b[0m\u001b[0mimages\u001b[0m\u001b[1;33m,\u001b[0m \u001b[0mlabels\u001b[0m\u001b[1;33m)\u001b[0m \u001b[1;32min\u001b[0m \u001b[0miter\u001b[0m\u001b[1;33m(\u001b[0m\u001b[0mdataloader\u001b[0m\u001b[1;33m)\u001b[0m\u001b[1;33m:\u001b[0m\u001b[1;33m\u001b[0m\u001b[1;33m\u001b[0m\u001b[0m\n\u001b[1;32m----> 5\u001b[1;33m         \u001b[0mimages\u001b[0m\u001b[1;33m,\u001b[0m \u001b[0mlabels\u001b[0m \u001b[1;33m=\u001b[0m \u001b[0mimages\u001b[0m\u001b[1;33m.\u001b[0m\u001b[0mto\u001b[0m\u001b[1;33m(\u001b[0m\u001b[0mdevice\u001b[0m\u001b[1;33m)\u001b[0m\u001b[1;33m,\u001b[0m \u001b[0mlabels\u001b[0m\u001b[1;33m.\u001b[0m\u001b[0mto\u001b[0m\u001b[1;33m(\u001b[0m\u001b[0mdevice\u001b[0m\u001b[1;33m)\u001b[0m\u001b[1;33m\u001b[0m\u001b[1;33m\u001b[0m\u001b[0m\n\u001b[0m\u001b[0;32m      6\u001b[0m         \u001b[0mpredicted\u001b[0m \u001b[1;33m=\u001b[0m \u001b[0mmodel\u001b[0m\u001b[1;33m.\u001b[0m\u001b[0mpredict\u001b[0m\u001b[1;33m(\u001b[0m\u001b[0mimages\u001b[0m\u001b[1;33m)\u001b[0m\u001b[1;33m\u001b[0m\u001b[1;33m\u001b[0m\u001b[0m\n\u001b[0;32m      7\u001b[0m         \u001b[0mtotal\u001b[0m \u001b[1;33m+=\u001b[0m \u001b[0mlabels\u001b[0m\u001b[1;33m.\u001b[0m\u001b[0msize\u001b[0m\u001b[1;33m(\u001b[0m\u001b[1;36m0\u001b[0m\u001b[1;33m)\u001b[0m\u001b[1;33m\u001b[0m\u001b[1;33m\u001b[0m\u001b[0m\n",
      "\u001b[1;31mKeyboardInterrupt\u001b[0m: "
     ]
    }
   ],
   "source": [
    "epochs = 5\n",
    "running_loss = 0\n",
    "print_every = 20\n",
    "best_accuracy_val = 0\n",
    "best_model = None\n",
    "nb_steps = len(trainloader)\n",
    "accuracy_val = []\n",
    "accuracy_tr = []\n",
    "\n",
    "for e in range(epochs):\n",
    "    start = time.time()\n",
    "    \n",
    "    for step, (images, labels) in enumerate(trainloader):\n",
    "        images, labels = images.to(device), labels.to(device)\n",
    "        \n",
    "        optimizer.zero_grad()\n",
    "        output = net(images)\n",
    "        loss = criterion(output, labels)\n",
    "        loss.backward()\n",
    "        optimizer.step()\n",
    "        \n",
    "        running_loss += loss.item()\n",
    "        \n",
    "        if step % print_every == 0: # Test accuracy\n",
    "            stop = time.time()\n",
    "            net.eval()\n",
    "            with torch.no_grad():\n",
    "\n",
    "                accuracy_tr.append(get_accuracy(net, trainloader))\n",
    "                accuracy_val.append(get_accuracy(net, valloader))\n",
    "                \n",
    "                if accuracy_val[-1] > best_accuracy_val: # Save best model\n",
    "                    best_model = copy.deepcopy(net)\n",
    "                    best_accuracy_val = accuracy_val[-1]\n",
    "                    \n",
    "\n",
    "                print(\"Epoch: {}/{}\".format(e+1, epochs),\n",
    "                      \"Step: {}/{}\".format(step, nb_steps),\n",
    "                      \"Loss: {:.4f}..\".format(running_loss/print_every),\n",
    "                      \"Train accuracy: {:.3f}..\".format(accuracy_tr[-1]),\n",
    "                      \"Test accuracy: {:.3f}..\".format(accuracy_val[-1]),\n",
    "                      \"{:.3f} s/{} steps\".format((stop - start), print_every)\n",
    "                     )\n",
    "                \n",
    "            running_loss = 0\n",
    "            start = time.time()\n",
    "            \n",
    "print(\"Best reached accuracy was {}\".format(best_accuracy_val))"
   ]
  },
  {
   "cell_type": "code",
   "execution_count": null,
   "metadata": {},
   "outputs": [],
   "source": []
  },
  {
   "cell_type": "code",
   "execution_count": null,
   "metadata": {},
   "outputs": [],
   "source": [
    "plt.figure()\n",
    "plt.plot(range(len(accuracy_train)), accuracy_train, label=\"Train\")\n",
    "plt.plot(range(len(accuracy_train)), accuracy_val, label=\"Test\")\n",
    "plt.legend()\n",
    "plt.grid()\n",
    "plt.show()"
   ]
  },
  {
   "cell_type": "code",
   "execution_count": null,
   "metadata": {},
   "outputs": [],
   "source": []
  },
  {
   "cell_type": "markdown",
   "metadata": {},
   "source": [
    "Save best trained model."
   ]
  },
  {
   "cell_type": "code",
   "execution_count": 13,
   "metadata": {},
   "outputs": [],
   "source": [
    "model_name = \"model.ckpt\""
   ]
  },
  {
   "cell_type": "code",
   "execution_count": 14,
   "metadata": {},
   "outputs": [],
   "source": [
    "torch.save(best_model.state_dict(), model_name)"
   ]
  },
  {
   "cell_type": "code",
   "execution_count": null,
   "metadata": {},
   "outputs": [],
   "source": []
  },
  {
   "cell_type": "markdown",
   "metadata": {},
   "source": [
    "Test that saved correctly"
   ]
  },
  {
   "cell_type": "code",
   "execution_count": 15,
   "metadata": {},
   "outputs": [
    {
     "data": {
      "text/plain": [
       "<All keys matched successfully>"
      ]
     },
     "execution_count": 15,
     "metadata": {},
     "output_type": "execute_result"
    }
   ],
   "source": [
    "checkpoint = torch.load(model_name)\n",
    "net.load_state_dict(checkpoint)"
   ]
  },
  {
   "cell_type": "code",
   "execution_count": 16,
   "metadata": {},
   "outputs": [
    {
     "data": {
      "text/plain": [
       "(62.310204081632655, 58.9)"
      ]
     },
     "execution_count": 16,
     "metadata": {},
     "output_type": "execute_result"
    }
   ],
   "source": [
    "get_accuracy(net, trainloader), get_accuracy(net, valloader)"
   ]
  }
 ],
 "metadata": {
  "kernelspec": {
   "display_name": "Python 3",
   "language": "python",
   "name": "python3"
  },
  "language_info": {
   "codemirror_mode": {
    "name": "ipython",
    "version": 3
   },
   "file_extension": ".py",
   "mimetype": "text/x-python",
   "name": "python",
   "nbconvert_exporter": "python",
   "pygments_lexer": "ipython3",
   "version": "3.7.1"
  }
 },
 "nbformat": 4,
 "nbformat_minor": 2
}
